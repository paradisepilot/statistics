{
 "cells": [
  {
   "cell_type": "markdown",
   "metadata": {},
   "source": [
    "\n",
    "# Demo: Generic Supervised Machine Learning Pipeline\n"
   ]
  },
  {
   "cell_type": "markdown",
   "metadata": {},
   "source": [
    "\n",
    "### set up environment"
   ]
  },
  {
   "cell_type": "code",
   "execution_count": 24,
   "metadata": {
    "collapsed": true
   },
   "outputs": [],
   "source": [
    "# import modules and classes\n",
    "\n",
    "import os, sys, shutil, getpass\n",
    "import pprint, logging, datetime\n",
    "import stat\n",
    "\n",
    "import numpy   as np\n",
    "import pandas  as pd\n",
    "import seaborn as sns"
   ]
  },
  {
   "cell_type": "code",
   "execution_count": 79,
   "metadata": {
    "collapsed": true
   },
   "outputs": [],
   "source": [
    "# define path of jupyter notebook, and code and data directories relative to it\n",
    "\n",
    "dir_MASTER = \"..\"\n",
    "dir_code   = os.path.join(dir_MASTER, \"code\")\n",
    "dir_data   = os.path.join(dir_MASTER, \"data\")"
   ]
  },
  {
   "cell_type": "code",
   "execution_count": 81,
   "metadata": {},
   "outputs": [
    {
     "name": "stdout",
     "output_type": "stream",
     "text": [
      "['__init__.py', '__pycache__', 'examineData.py', 'PipelinePreprocessHousingData.py', 'splitTrainTest.py', 'trainEvaluate.py', 'trainEvaluateGrid.py', 'visualizeData.py']\n"
     ]
    }
   ],
   "source": [
    "# check dir_code has been set correctly\n",
    "\n",
    "print(os.listdir(dir_code))"
   ]
  },
  {
   "cell_type": "code",
   "execution_count": 34,
   "metadata": {
    "collapsed": true
   },
   "outputs": [],
   "source": [
    "# append code directory to list of library paths (to enable use of Python modules therein)\n",
    "\n",
    "sys.path.append(dir_code)"
   ]
  },
  {
   "cell_type": "markdown",
   "metadata": {},
   "source": [
    "\n",
    "## California \"census block group\" housing data"
   ]
  },
  {
   "cell_type": "code",
   "execution_count": 83,
   "metadata": {},
   "outputs": [],
   "source": [
    "# load California housing\n",
    "\n",
    "housingFILE = os.path.join(dir_data,'housing.csv')\n",
    "housingDF   = pd.read_csv(housingFILE);"
   ]
  },
  {
   "cell_type": "code",
   "execution_count": 84,
   "metadata": {},
   "outputs": [
    {
     "name": "stdout",
     "output_type": "stream",
     "text": [
      "<class 'pandas.core.frame.DataFrame'>\n",
      "RangeIndex: 20640 entries, 0 to 20639\n",
      "Data columns (total 10 columns):\n",
      "longitude             20640 non-null float64\n",
      "latitude              20640 non-null float64\n",
      "housing_median_age    20640 non-null float64\n",
      "total_rooms           20640 non-null float64\n",
      "total_bedrooms        20433 non-null float64\n",
      "population            20640 non-null float64\n",
      "households            20640 non-null float64\n",
      "median_income         20640 non-null float64\n",
      "median_house_value    20640 non-null float64\n",
      "ocean_proximity       20640 non-null object\n",
      "dtypes: float64(9), object(1)\n",
      "memory usage: 1.6+ MB\n"
     ]
    },
    {
     "data": {
      "text/html": [
       "<div>\n",
       "<style>\n",
       "    .dataframe thead tr:only-child th {\n",
       "        text-align: right;\n",
       "    }\n",
       "\n",
       "    .dataframe thead th {\n",
       "        text-align: left;\n",
       "    }\n",
       "\n",
       "    .dataframe tbody tr th {\n",
       "        vertical-align: top;\n",
       "    }\n",
       "</style>\n",
       "<table border=\"1\" class=\"dataframe\">\n",
       "  <thead>\n",
       "    <tr style=\"text-align: right;\">\n",
       "      <th></th>\n",
       "      <th>longitude</th>\n",
       "      <th>latitude</th>\n",
       "      <th>housing_median_age</th>\n",
       "      <th>total_rooms</th>\n",
       "      <th>total_bedrooms</th>\n",
       "      <th>population</th>\n",
       "      <th>households</th>\n",
       "      <th>median_income</th>\n",
       "      <th>median_house_value</th>\n",
       "      <th>ocean_proximity</th>\n",
       "    </tr>\n",
       "  </thead>\n",
       "  <tbody>\n",
       "    <tr>\n",
       "      <th>0</th>\n",
       "      <td>-122.23</td>\n",
       "      <td>37.88</td>\n",
       "      <td>41.0</td>\n",
       "      <td>880.0</td>\n",
       "      <td>129.0</td>\n",
       "      <td>322.0</td>\n",
       "      <td>126.0</td>\n",
       "      <td>8.3252</td>\n",
       "      <td>452600.0</td>\n",
       "      <td>NEAR BAY</td>\n",
       "    </tr>\n",
       "    <tr>\n",
       "      <th>1</th>\n",
       "      <td>-122.22</td>\n",
       "      <td>37.86</td>\n",
       "      <td>21.0</td>\n",
       "      <td>7099.0</td>\n",
       "      <td>1106.0</td>\n",
       "      <td>2401.0</td>\n",
       "      <td>1138.0</td>\n",
       "      <td>8.3014</td>\n",
       "      <td>358500.0</td>\n",
       "      <td>NEAR BAY</td>\n",
       "    </tr>\n",
       "    <tr>\n",
       "      <th>2</th>\n",
       "      <td>-122.24</td>\n",
       "      <td>37.85</td>\n",
       "      <td>52.0</td>\n",
       "      <td>1467.0</td>\n",
       "      <td>190.0</td>\n",
       "      <td>496.0</td>\n",
       "      <td>177.0</td>\n",
       "      <td>7.2574</td>\n",
       "      <td>352100.0</td>\n",
       "      <td>NEAR BAY</td>\n",
       "    </tr>\n",
       "    <tr>\n",
       "      <th>3</th>\n",
       "      <td>-122.25</td>\n",
       "      <td>37.85</td>\n",
       "      <td>52.0</td>\n",
       "      <td>1274.0</td>\n",
       "      <td>235.0</td>\n",
       "      <td>558.0</td>\n",
       "      <td>219.0</td>\n",
       "      <td>5.6431</td>\n",
       "      <td>341300.0</td>\n",
       "      <td>NEAR BAY</td>\n",
       "    </tr>\n",
       "    <tr>\n",
       "      <th>4</th>\n",
       "      <td>-122.25</td>\n",
       "      <td>37.85</td>\n",
       "      <td>52.0</td>\n",
       "      <td>1627.0</td>\n",
       "      <td>280.0</td>\n",
       "      <td>565.0</td>\n",
       "      <td>259.0</td>\n",
       "      <td>3.8462</td>\n",
       "      <td>342200.0</td>\n",
       "      <td>NEAR BAY</td>\n",
       "    </tr>\n",
       "  </tbody>\n",
       "</table>\n",
       "</div>"
      ],
      "text/plain": [
       "   longitude  latitude  housing_median_age  total_rooms  total_bedrooms  \\\n",
       "0    -122.23     37.88                41.0        880.0           129.0   \n",
       "1    -122.22     37.86                21.0       7099.0          1106.0   \n",
       "2    -122.24     37.85                52.0       1467.0           190.0   \n",
       "3    -122.25     37.85                52.0       1274.0           235.0   \n",
       "4    -122.25     37.85                52.0       1627.0           280.0   \n",
       "\n",
       "   population  households  median_income  median_house_value ocean_proximity  \n",
       "0       322.0       126.0         8.3252            452600.0        NEAR BAY  \n",
       "1      2401.0      1138.0         8.3014            358500.0        NEAR BAY  \n",
       "2       496.0       177.0         7.2574            352100.0        NEAR BAY  \n",
       "3       558.0       219.0         5.6431            341300.0        NEAR BAY  \n",
       "4       565.0       259.0         3.8462            342200.0        NEAR BAY  "
      ]
     },
     "execution_count": 84,
     "metadata": {},
     "output_type": "execute_result"
    }
   ],
   "source": [
    "# view first several rows of housingDF\n",
    "\n",
    "housingDF.info()\n",
    "housingDF.head()"
   ]
  },
  {
   "cell_type": "code",
   "execution_count": 26,
   "metadata": {},
   "outputs": [
    {
     "data": {
      "image/png": "[encoded data removed]",
      "text/plain": [
       "<matplotlib.figure.Figure at 0x10e3d3908>"
      ]
     },
     "metadata": {},
     "output_type": "display_data"
    }
   ],
   "source": [
    "import matplotlib.pyplot as plt\n",
    "myHistogram = housingDF.hist(bins = 50, figsize = (12,6))\n",
    "plt.show()"
   ]
  },
  {
   "cell_type": "markdown",
   "metadata": {},
   "source": [
    "\n",
    "## Split data into training and testing sets"
   ]
  },
  {
   "cell_type": "code",
   "execution_count": 31,
   "metadata": {
    "collapsed": true
   },
   "outputs": [],
   "source": [
    "# define the splitTrainTest() function\n",
    "\n",
    "from sklearn.model_selection import train_test_split\n",
    "from sklearn.model_selection import StratifiedShuffleSplit\n",
    "\n",
    "import importlib\n",
    "from   importlib.util import find_spec\n",
    "ms_spec = importlib.util.find_spec(name=\"sklearn.model_selection\")\n",
    "if ms_spec is not None:\n",
    "    from sklearn.model_selection import train_test_split\n",
    "    from sklearn.model_selection import StratifiedShuffleSplit\n",
    "else:\n",
    "    from sklearn.cross_validation import train_test_split\n",
    "\n",
    "def splitTrainTest(inputDF,random_state):\n",
    "\n",
    "    ms_spec = importlib.util.find_spec(name=\"sklearn.model_selection\")\n",
    "    if ms_spec is None:\n",
    "        trainSet, testSet = train_test_split(inputDF, test_size=0.2, random_state=random_state)\n",
    "    else:\n",
    "        inputDF[\"income_category\"] = np.ceil(inputDF[\"median_income\"]/1.5)\n",
    "        inputDF[\"income_category\"].where( inputDF[\"income_category\"] < 5.0 , 5.0, inplace = True )\n",
    "\n",
    "        split = StratifiedShuffleSplit(n_splits=1, test_size=0.2,random_state=19)\n",
    "        for trainIndices, testIndices in split.split(inputDF,inputDF[\"income_category\"]):\n",
    "            trainSet = inputDF.loc[trainIndices]\n",
    "            testSet  = inputDF.loc[testIndices]\n",
    "\n",
    "        for set in (trainSet,testSet):\n",
    "            set.drop([\"income_category\"],axis=1,inplace=True)\n",
    "\n",
    "    ### ~~~~~~~~~~~~~~~~~~~~~~~~~~~~~~~~~~~~~~~ ###\n",
    "    return( trainSet , testSet )"
   ]
  },
  {
   "cell_type": "code",
   "execution_count": 32,
   "metadata": {},
   "outputs": [],
   "source": [
    "# split into training and testing data sets in a stratified manner\n",
    "\n",
    "trainSet, testSet = splitTrainTest(inputDF = housingDF, random_state = 19)"
   ]
  },
  {
   "cell_type": "code",
   "execution_count": 60,
   "metadata": {},
   "outputs": [
    {
     "name": "stdout",
     "output_type": "stream",
     "text": [
      "(20640, 11)\n",
      "(16512, 10)\n",
      "(4128, 10)\n"
     ]
    }
   ],
   "source": [
    "print(housingDF.shape)\n",
    "print(trainSet.shape)\n",
    "print(testSet.shape)"
   ]
  },
  {
   "cell_type": "code",
   "execution_count": 63,
   "metadata": {},
   "outputs": [
    {
     "name": "stdout",
     "output_type": "stream",
     "text": [
      "<class 'pandas.core.frame.DataFrame'>\n",
      "RangeIndex: 20640 entries, 0 to 20639\n",
      "Data columns (total 11 columns):\n",
      "longitude             20640 non-null float64\n",
      "latitude              20640 non-null float64\n",
      "housing_median_age    20640 non-null float64\n",
      "total_rooms           20640 non-null float64\n",
      "total_bedrooms        20433 non-null float64\n",
      "population            20640 non-null float64\n",
      "households            20640 non-null float64\n",
      "median_income         20640 non-null float64\n",
      "median_house_value    20640 non-null float64\n",
      "ocean_proximity       20640 non-null object\n",
      "income_category       20640 non-null float64\n",
      "dtypes: float64(10), object(1)\n",
      "memory usage: 1.7+ MB\n",
      "<class 'pandas.core.frame.DataFrame'>\n",
      "Int64Index: 16512 entries, 8663 to 7054\n",
      "Data columns (total 10 columns):\n",
      "longitude             16512 non-null float64\n",
      "latitude              16512 non-null float64\n",
      "housing_median_age    16512 non-null float64\n",
      "total_rooms           16512 non-null float64\n",
      "total_bedrooms        16336 non-null float64\n",
      "population            16512 non-null float64\n",
      "households            16512 non-null float64\n",
      "median_income         16512 non-null float64\n",
      "median_house_value    16512 non-null float64\n",
      "ocean_proximity       16512 non-null object\n",
      "dtypes: float64(9), object(1)\n",
      "memory usage: 1.4+ MB\n"
     ]
    }
   ],
   "source": [
    "housingDF.info()\n",
    "trainSet.info()"
   ]
  },
  {
   "cell_type": "code",
   "execution_count": 64,
   "metadata": {},
   "outputs": [],
   "source": [
    "# Preprocessing:\n",
    "#   1)  median imputation for continuous variables\n",
    "#   2)  add two derived variables: number of rooms per household, population per household\n",
    "#   3)  binarize the categorical variable: ocean_proximity (replace it with a collection of binary indicators)\n",
    "\n",
    "from PipelinePreprocessHousingData import PipelinePreprocessHousingData\n",
    "preprocessedTrainSet = PipelinePreprocessHousingData.fit_transform(\n",
    "    trainSet.drop([\"median_house_value\"],axis=1)\n",
    "    )"
   ]
  },
  {
   "cell_type": "code",
   "execution_count": 52,
   "metadata": {},
   "outputs": [
    {
     "name": "stdout",
     "output_type": "stream",
     "text": [
      "<class 'numpy.ndarray'>\n"
     ]
    },
    {
     "data": {
      "text/plain": [
       "array([[ 0.59311284, -0.84368509,  0.91777934,  0.19522684,  0.07694854,\n",
       "        -0.14480532,  0.01372209,  0.68219324,  0.27712397, -0.09712907,\n",
       "        -0.42595431,  1.        ,  0.        ,  0.        ,  0.        ,\n",
       "         0.        ],\n",
       "       [ 1.09212684, -1.13781385, -0.91562623, -0.35121612,  0.10330353,\n",
       "        -0.12355599, -0.19581394, -1.01636674, -0.44156162,  0.00596612,\n",
       "         1.46978359,  0.        ,  0.        ,  0.        ,  0.        ,\n",
       "         1.        ],\n",
       "       [ 1.29173244, -1.35257454, -0.91562623,  0.59509667,  0.73103156,\n",
       "         0.5024137 ,  0.6947142 , -0.61817454, -0.12078124, -0.0762501 ,\n",
       "         0.0045411 ,  1.        ,  0.        ,  0.        ,  0.        ,\n",
       "         0.        ]])"
      ]
     },
     "execution_count": 52,
     "metadata": {},
     "output_type": "execute_result"
    }
   ],
   "source": [
    "print(type(preprocessedTrainSet))\n",
    "preprocessedTrainSet[0:3,]"
   ]
  },
  {
   "cell_type": "code",
   "execution_count": 69,
   "metadata": {
    "collapsed": true
   },
   "outputs": [],
   "source": [
    "from sklearn.metrics import mean_squared_error\n",
    "\n",
    "# import cross_val_score\n",
    "import importlib\n",
    "from   importlib.util import find_spec\n",
    "ms_spec = importlib.util.find_spec(name=\"sklearn.model_selection\")\n",
    "if ms_spec is not None:\n",
    "    from sklearn.model_selection import cross_val_score\n",
    "else:\n",
    "    from sklearn.cross_validation import cross_val_score\n",
    "\n",
    "# define the trainEvaluate() function\n",
    "def trainEvaluate(trainData, testData, trainedPreprocessor, myModel, modelName):\n",
    "\n",
    "    preprocessedTrainData = trainedPreprocessor.transform(\n",
    "        trainData.drop([\"median_house_value\"],axis=1)\n",
    "        )\n",
    "\n",
    "    myModel.fit(X = preprocessedTrainData, y = trainData[\"median_house_value\"])\n",
    "    myPredictions = myModel.predict(X = preprocessedTrainData)\n",
    "\n",
    "    myTrainMSE  = mean_squared_error(myPredictions,trainData[\"median_house_value\"])\n",
    "    myTrainRMSE = np.sqrt(myTrainMSE)\n",
    "\n",
    "    ### ~~~~~~~~~~~~~~~~~~~~~~~~~~~~~~~~~~~~~~~ ###\n",
    "    nFold =10\n",
    "\n",
    "    CVScores = cross_val_score(\n",
    "        estimator = myModel,\n",
    "        X         = preprocessedTrainData,\n",
    "        y         = trainData[\"median_house_value\"],\n",
    "        scoring   = \"neg_mean_squared_error\",\n",
    "        cv        = nFold\n",
    "        )\n",
    "    CVRMSE = np.sqrt( - CVScores )\n",
    "\n",
    "    ### ~~~~~~~~~~~~~~~~~~~~~~~~~~~~~~~~~~~~~~~ ###\n",
    "    preprocessedTestData = trainedPreprocessor.transform(\n",
    "        testData.drop([\"median_house_value\"],axis=1)\n",
    "        )\n",
    "\n",
    "    myPredictions = myModel.predict(X = preprocessedTestData)\n",
    "\n",
    "    myTestMSE  = mean_squared_error(myPredictions,testData[\"median_house_value\"])\n",
    "    myTestRMSE = np.sqrt(myTestMSE)\n",
    "\n",
    "    ### ~~~~~~~~~~~~~~~~~~~~~~~~~~~~~~~~~~~~~~~ ###\n",
    "    print(\"\\n### ~~~~~~~~~~~~~~~~~~~~ ###\")\n",
    "    print(\"###  \" + modelName)\n",
    "\n",
    "    print(\"\\nTrain RMSE: \" + str(myTrainRMSE))\n",
    "\n",
    "    print(\"\\nCV RMSE (\" + str(nFold) + \"-fold):\")\n",
    "    print(CVRMSE)\n",
    "    print(\"\\nCV RMSE (mean): \" + str(CVRMSE.mean()) )\n",
    "    print(\"\\nCV RMSE (std): \"  + str(CVRMSE.std())  )\n",
    "\n",
    "    print(\"\\nTest RMSE: \" + str(myTestRMSE))\n",
    "\n",
    "    ### ~~~~~~~~~~~~~~~~~~~~~~~~~~~~~~~~~~~~~~~ ###\n",
    "    return( None )\n"
   ]
  },
  {
   "cell_type": "code",
   "execution_count": 70,
   "metadata": {},
   "outputs": [
    {
     "name": "stdout",
     "output_type": "stream",
     "text": [
      "\n",
      "### ~~~~~~~~~~~~~~~~~~~~ ###\n",
      "###  Linear Model\n",
      "\n",
      "Train RMSE: 68205.5245154\n",
      "\n",
      "CV RMSE (10-fold):\n",
      "[ 71213.42875203  69374.24757249  69744.15111082  67634.72605826\n",
      "  67556.95118003  70447.0948898   66602.78109188  67053.6825131\n",
      "  69152.900413    68090.74548673]\n",
      "\n",
      "CV RMSE (mean): 68687.0709068\n",
      "\n",
      "CV RMSE (std): 1450.490324\n",
      "\n",
      "Test RMSE: 68763.2267712\n"
     ]
    }
   ],
   "source": [
    "# linear model (this underfits the data)\n",
    "\n",
    "from sklearn.linear_model import LinearRegression\n",
    "myLinearModel = LinearRegression()\n",
    "trainEvaluate(\n",
    "    trainData           = trainSet,\n",
    "    testData            = testSet,\n",
    "    trainedPreprocessor = PipelinePreprocessHousingData,\n",
    "    myModel             = myLinearModel,\n",
    "    modelName           = \"Linear Model\"\n",
    "    )"
   ]
  },
  {
   "cell_type": "code",
   "execution_count": 71,
   "metadata": {},
   "outputs": [
    {
     "name": "stdout",
     "output_type": "stream",
     "text": [
      "\n",
      "### ~~~~~~~~~~~~~~~~~~~~ ###\n",
      "###  Regression Tree\n",
      "\n",
      "Train RMSE: 0.0\n",
      "\n",
      "CV RMSE (10-fold):\n",
      "[ 70644.98404346  70694.11007518  69971.89205113  70833.24897125\n",
      "  67842.34087961  72158.39900427  71707.67082508  73172.99317222\n",
      "  66442.32590114  67110.76536155]\n",
      "\n",
      "CV RMSE (mean): 70057.8730285\n",
      "\n",
      "CV RMSE (std): 2118.07272048\n",
      "\n",
      "Test RMSE: 71327.5036917\n"
     ]
    }
   ],
   "source": [
    "# regression tree (this overfits the data: zero MSE)\n",
    "\n",
    "from sklearn.tree import DecisionTreeRegressor\n",
    "myRegressionTreeModel = DecisionTreeRegressor()\n",
    "trainEvaluate(\n",
    "    trainData           = trainSet,\n",
    "    testData            = testSet,\n",
    "    trainedPreprocessor = PipelinePreprocessHousingData,\n",
    "    myModel             = myRegressionTreeModel,\n",
    "    modelName           = \"Regression Tree\"\n",
    "    )"
   ]
  },
  {
   "cell_type": "code",
   "execution_count": 72,
   "metadata": {},
   "outputs": [
    {
     "name": "stdout",
     "output_type": "stream",
     "text": [
      "\n",
      "### ~~~~~~~~~~~~~~~~~~~~ ###\n",
      "###  Random Forest\n",
      "\n",
      "Train RMSE: 22130.758657\n",
      "\n",
      "CV RMSE (10-fold):\n",
      "[ 53355.99264213  54279.63024356  54824.01559291  51615.89475211\n",
      "  52062.01916125  54817.82552528  52848.43234377  51478.13817967\n",
      "  48414.87243771  54038.64176538]\n",
      "\n",
      "CV RMSE (mean): 52773.5462644\n",
      "\n",
      "CV RMSE (std): 1874.02393064\n",
      "\n",
      "Test RMSE: 51481.189213\n"
     ]
    }
   ],
   "source": [
    "# random forest\n",
    "\n",
    "from sklearn.ensemble import RandomForestRegressor\n",
    "myRandomForestModel = RandomForestRegressor()\n",
    "trainEvaluate(\n",
    "    trainData           = trainSet,\n",
    "    testData            = testSet,\n",
    "    trainedPreprocessor = PipelinePreprocessHousingData,\n",
    "    myModel             = myRandomForestModel,\n",
    "    modelName           = \"Random Forest\"\n",
    "    )"
   ]
  },
  {
   "cell_type": "code",
   "execution_count": 73,
   "metadata": {
    "collapsed": true
   },
   "outputs": [],
   "source": [
    "from sklearn.metrics         import mean_squared_error\n",
    "from sklearn.preprocessing   import LabelEncoder\n",
    "\n",
    "def trainEvaluateGrid(trainData, testData, trainedPreprocessor, myModel, modelName):\n",
    "\n",
    "    preprocessedTrainData = trainedPreprocessor.transform(\n",
    "        trainData.drop([\"median_house_value\"],axis=1)\n",
    "        )\n",
    "\n",
    "    myModel.fit(X = preprocessedTrainData, y = trainData[\"median_house_value\"])\n",
    "    myPredictions = myModel.predict(X = preprocessedTrainData)\n",
    "\n",
    "    myTrainMSE  = mean_squared_error(myPredictions,trainData[\"median_house_value\"])\n",
    "    myTrainRMSE = np.sqrt(myTrainMSE)\n",
    "\n",
    "    ### ~~~~~~~~~~~~~~~~~~~~~~~~~~~~~~~~~~~~~~~ ###\n",
    "    preprocessedTestData = trainedPreprocessor.transform(\n",
    "        testData.drop([\"median_house_value\"],axis=1)\n",
    "        )\n",
    "\n",
    "    myPredictions = myModel.predict(X = preprocessedTestData)\n",
    "\n",
    "    myTestMSE  = mean_squared_error(myPredictions,testData[\"median_house_value\"])\n",
    "    myTestRMSE = np.sqrt(myTestMSE)\n",
    "\n",
    "    ### ~~~~~~~~~~~~~~~~~~~~~~~~~~~~~~~~~~~~~~~ ###\n",
    "    print(\"\\n### ~~~~~~~~~~~~~~~~~~~~ ###\")\n",
    "    print(\"###  \" + modelName)\n",
    "\n",
    "    print(\"\\nTrain RMSE: \" + str(myTrainRMSE))\n",
    "\n",
    "    print(\"\\n(Cross Validation, Grid Search) RSME:\")\n",
    "    CVResults = myModel.cv_results_\n",
    "    for mean_score, params in zip(CVResults[\"mean_test_score\"], CVResults[\"params\"]):\n",
    "        print( np.sqrt(-mean_score) , params )\n",
    "\n",
    "    print(\"\\nbest_params_:\")\n",
    "    print(   myModel.best_params_ )\n",
    "\n",
    "    print(\"\\ngridSearch.best_estimator_\")\n",
    "    print(   myModel.best_estimator_ )\n",
    "\n",
    "    print(\"\\nTest RMSE: \" + str(myTestRMSE))\n",
    "\n",
    "    ### ~~~~~~~~~~~~~~~~~~~~~~~~~~~~~~~~~~~~~~~ ###\n",
    "    # examine feature importances\n",
    "    featureImportances = myModel.best_estimator_.feature_importances_\n",
    "\n",
    "    numericAttribs = list(trainData.drop([\"ocean_proximity\"],axis=1).columns)\n",
    "\n",
    "    oneHotEncoder     = LabelEncoder()\n",
    "    housingCatEncoded = oneHotEncoder.fit(trainData[\"ocean_proximity\"])\n",
    "    oneHotAttribs     = oneHotEncoder.classes_\n",
    "\n",
    "    extraAttribs = [\"roomsPerHhold\", \"popPerHhold\", \"bedroomsPerRoom\"]\n",
    "    attributes = list(numericAttribs) + extraAttribs + list(oneHotAttribs)\n",
    "\n",
    "    print(\"\\nfeatureImportances\")\n",
    "    for currentItem in sorted(zip(featureImportances,attributes),reverse=True):\n",
    "        print( currentItem )\n",
    "\n",
    "    ### ~~~~~~~~~~~~~~~~~~~~~~~~~~~~~~~~~~~~~~~ ###\n",
    "    return( None )\n"
   ]
  },
  {
   "cell_type": "code",
   "execution_count": 74,
   "metadata": {},
   "outputs": [
    {
     "name": "stdout",
     "output_type": "stream",
     "text": [
      "\n",
      "### ~~~~~~~~~~~~~~~~~~~~ ###\n",
      "###  Random Forest, Cross Validation, Grid Search\n",
      "\n",
      "Train RMSE: 19280.5129358\n",
      "\n",
      "(Cross Validation, Grid Search) RSME:\n",
      "63584.9710079 {'max_features': 2, 'n_estimators': 3}\n",
      "54743.8396444 {'max_features': 2, 'n_estimators': 10}\n",
      "52535.6682863 {'max_features': 2, 'n_estimators': 30}\n",
      "60203.2624353 {'max_features': 4, 'n_estimators': 3}\n",
      "52253.4741608 {'max_features': 4, 'n_estimators': 10}\n",
      "50450.0932575 {'max_features': 4, 'n_estimators': 30}\n",
      "59786.4028529 {'max_features': 6, 'n_estimators': 3}\n",
      "52003.9383904 {'max_features': 6, 'n_estimators': 10}\n",
      "50117.0632746 {'max_features': 6, 'n_estimators': 30}\n",
      "58985.8164306 {'max_features': 8, 'n_estimators': 3}\n",
      "52242.4758582 {'max_features': 8, 'n_estimators': 10}\n",
      "50176.4968498 {'max_features': 8, 'n_estimators': 30}\n",
      "61618.4144226 {'bootstrap': False, 'max_features': 2, 'n_estimators': 3}\n",
      "53971.85323 {'bootstrap': False, 'max_features': 2, 'n_estimators': 10}\n",
      "60328.0851852 {'bootstrap': False, 'max_features': 3, 'n_estimators': 3}\n",
      "52171.6564852 {'bootstrap': False, 'max_features': 3, 'n_estimators': 10}\n",
      "58307.2204028 {'bootstrap': False, 'max_features': 4, 'n_estimators': 3}\n",
      "51444.7093177 {'bootstrap': False, 'max_features': 4, 'n_estimators': 10}\n",
      "\n",
      "best_params_:\n",
      "{'max_features': 6, 'n_estimators': 30}\n",
      "\n",
      "gridSearch.best_estimator_\n",
      "RandomForestRegressor(bootstrap=True, criterion='mse', max_depth=None,\n",
      "           max_features=6, max_leaf_nodes=None, min_impurity_split=1e-07,\n",
      "           min_samples_leaf=1, min_samples_split=2,\n",
      "           min_weight_fraction_leaf=0.0, n_estimators=30, n_jobs=1,\n",
      "           oob_score=False, random_state=None, verbose=0, warm_start=False)\n",
      "\n",
      "Test RMSE: 49636.9295261\n",
      "\n",
      "featureImportances\n",
      "(0.31512601071666313, 'median_income')\n",
      "(0.16196063498233923, '<1H OCEAN')\n",
      "(0.10582830836025431, 'roomsPerHhold')\n",
      "(0.07508110372369306, 'popPerHhold')\n",
      "(0.072694217715439935, 'longitude')\n",
      "(0.072316953873029402, 'latitude')\n",
      "(0.068938615052696411, 'median_house_value')\n",
      "(0.042583873470105414, 'housing_median_age')\n",
      "(0.017855412020322037, 'population')\n",
      "(0.016683525100095065, 'total_bedrooms')\n",
      "(0.016544614129909888, 'total_rooms')\n",
      "(0.016501834027527442, 'households')\n",
      "(0.010537163549599859, 'bedroomsPerRoom')\n",
      "(0.0050512877690023312, 'NEAR BAY')\n",
      "(0.0022461283984674335, 'ISLAND')\n",
      "(5.0317110855019222e-05, 'INLAND')\n"
     ]
    }
   ],
   "source": [
    "# random forest with hyperparameter tuning via grid search\n",
    "\n",
    "from sklearn.ensemble import RandomForestRegressor\n",
    "\n",
    "ms_spec = importlib.util.find_spec(name=\"sklearn.model_selection\")\n",
    "if ms_spec is not None:\n",
    "    from sklearn.model_selection import GridSearchCV\n",
    "else:\n",
    "    from sklearn.grid_search import GridSearchCV\n",
    "\n",
    "# instantiate random forest regressor\n",
    "newRandomForestModel = RandomForestRegressor()\n",
    "\n",
    "parameterGrid = [\n",
    "    { 'n_estimators':[3,10,30], 'max_features':[2,4,6,8]                     },\n",
    "    { 'n_estimators':[3,10],    'max_features':[2,3,4],  'bootstrap':[False] }\n",
    "    ]\n",
    "\n",
    "gridSearch = GridSearchCV(\n",
    "    estimator  = newRandomForestModel,\n",
    "    param_grid = parameterGrid,\n",
    "    scoring    = \"neg_mean_squared_error\",\n",
    "    cv         = 5\n",
    "    )\n",
    "\n",
    "trainEvaluateGrid(\n",
    "    trainData           = trainSet,\n",
    "    testData            = testSet,\n",
    "    trainedPreprocessor = PipelinePreprocessHousingData,\n",
    "    myModel             = gridSearch,\n",
    "    modelName           = \"Random Forest, Cross Validation, Grid Search\"\n",
    "    )"
   ]
  }
 ],
 "metadata": {
  "kernelspec": {
   "display_name": "Python 3",
   "language": "python",
   "name": "python3"
  },
  "language_info": {
   "codemirror_mode": {
    "name": "ipython",
    "version": 3
   },
   "file_extension": ".py",
   "mimetype": "text/x-python",
   "name": "python",
   "nbconvert_exporter": "python",
   "pygments_lexer": "ipython3",
   "version": "3.6.1"
  }
 },
 "nbformat": 4,
 "nbformat_minor": 2
}
